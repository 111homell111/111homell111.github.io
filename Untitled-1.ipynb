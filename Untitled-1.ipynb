{
 "cells": [
  {
   "cell_type": "code",
   "execution_count": 9,
   "metadata": {},
   "outputs": [
    {
     "name": "stdout",
     "output_type": "stream",
     "text": [
      "Converted: airspeed-PCB-3D.png -> airspeed-PCB-3D.webp\n",
      "Converted: airspeed-PCB-full-43.png -> airspeed-PCB-full-43.webp\n",
      "Converted: airspeed-PCB-full.png -> airspeed-PCB-full.webp\n",
      "Converted: airspeed-PCB-mini.png -> airspeed-PCB-mini.webp\n",
      "Converted: airspeed-PCB-real.jpg -> airspeed-PCB-real.webp\n",
      "Converted: airspeed-PCB1-cropped.png -> airspeed-PCB1-cropped.webp\n",
      "Converted: airspeed-PCB1.png -> airspeed-PCB1.webp\n",
      "Converted: CAN-AD2.png -> CAN-AD2.webp\n",
      "Converted: CAN-breadboard.png -> CAN-breadboard.webp\n",
      "Converted: CAN-DIFF-PAIR.png -> CAN-DIFF-PAIR.webp\n",
      "Converted: initial-FC.png -> initial-FC.webp\n",
      "Converted: no-RTK.png -> no-RTK.webp\n",
      "Converted: RTK-diagram.png -> RTK-diagram.webp\n",
      "Converted: RTK.png -> RTK.webp\n",
      "Converted: test-flight-group-photo.JPG -> test-flight-group-photo.webp\n",
      "Converted: u-center.png -> u-center.webp\n",
      "✅ All images converted to WebP successfully!\n"
     ]
    }
   ],
   "source": [
    "from PIL import Image\n",
    "import os\n",
    "\n",
    "# Define the directory containing images\n",
    "input_dir = \"assets/imgs/aerodesign-assets/2025\"  # Change this to your image directory\n",
    "output_dir = os.path.join(input_dir, \"webp\")  # Output folder for WebP images\n",
    "\n",
    "# Create the output directory if it doesn't exist\n",
    "os.makedirs(output_dir, exist_ok=True)\n",
    "\n",
    "# Supported image formats\n",
    "valid_extensions = (\".jpg\", \".jpeg\", \".png\", \".bmp\", \".tiff\")\n",
    "\n",
    "# Loop through all files in the directory\n",
    "for filename in os.listdir(input_dir):\n",
    "    if filename.lower().endswith(valid_extensions):\n",
    "        img_path = os.path.join(input_dir, filename)\n",
    "        img = Image.open(img_path).convert(\"RGB\")  # Convert to RGB (WebP doesn't support CMYK)\n",
    "        \n",
    "        # Save as WebP\n",
    "        webp_filename = os.path.splitext(filename)[0] + \".webp\"\n",
    "        webp_path = os.path.join(output_dir, webp_filename)\n",
    "        img.save(webp_path, \"webp\", quality=85)  # Adjust quality (default 85)\n",
    "\n",
    "        print(f\"Converted: {filename} -> {webp_filename}\")\n",
    "\n",
    "print(\"✅ All images converted to WebP successfully!\")\n"
   ]
  }
 ],
 "metadata": {
  "kernelspec": {
   "display_name": "base",
   "language": "python",
   "name": "python3"
  },
  "language_info": {
   "codemirror_mode": {
    "name": "ipython",
    "version": 3
   },
   "file_extension": ".py",
   "mimetype": "text/x-python",
   "name": "python",
   "nbconvert_exporter": "python",
   "pygments_lexer": "ipython3",
   "version": "3.12.3"
  }
 },
 "nbformat": 4,
 "nbformat_minor": 2
}
